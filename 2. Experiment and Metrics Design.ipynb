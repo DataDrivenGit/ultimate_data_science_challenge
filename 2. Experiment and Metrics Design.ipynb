{
 "cells": [
  {
   "cell_type": "markdown",
   "metadata": {},
   "source": [
    "# Experiment and Metrics Design\n",
    "The neighboring cities of Gotham and Metropolis have complementary circadian rhythms: on\n",
    "weekdays, Ultimate Gotham is most active at night, and Ultimate Metropolis is most active\n",
    "during the day. On weekends, there is reasonable activity in both cities.\n",
    "However, a toll bridge, with a two­way toll, between the two cities causes driver partners to tend\n",
    "to be exclusive to each city. The Ultimate managers of city operations for the two cities have\n",
    "proposed an experiment to encourage driver partners to be available in both cities, by\n",
    "reimbursing all toll costs.\n",
    "\n",
    "1. What would you choose as the key measure of success of this experiment in\n",
    "encouraging driver partners to serve both cities, and why would you choose this metric?\n",
    "2. Describe a practical experiment you would design to compare the effectiveness of the\n",
    "proposed change in relation to the key measure of success. Please provide details on:\n",
    "    * how you will implement the experiment\n",
    "    * what statistical test(s) you will conduct to verify the significance of the\n",
    "observation\n",
    "    * how you would interpret the results and provide recommendations to the city\n",
    "operations team along with any caveats."
   ]
  },
  {
   "cell_type": "markdown",
   "metadata": {},
   "source": [
    "## Metric of Success\n",
    "The idea behind the city operations reimbursing the toll costs is to encourage driver partners to serve both cities. \n",
    "which in turn leading to increased number of cabs crossing the toll bridges.\n",
    "\n",
    "Therefore the metric to measure the success of this experiment would be the **average number of vehicles that cross the toll bridge everday.**"
   ]
  },
  {
   "cell_type": "markdown",
   "metadata": {},
   "source": [
    "## Experiment to measure success\n",
    "Below will be the experiment that would be conducted\n",
    "* Before introducing any change to the tolls, measure the average number of vehicles that cross the bridge every day for 3 months. This can be measured by the amount of toll collected each day\n",
    "* Introduce the change - reimbursing all the toll costs \n",
    "* Again measure the number of vehicles that cross the bridge every day for another 3 months. This can be measured by the amount of toll collected and reimbursed\n",
    "\n",
    "Perform A/B testing to determine the success of the proposed experiment. \n",
    "* Pick an alpha (significance level = 5%). \n",
    "* Use Null Hypothesis H0 = No change in traffic across the bridge\n",
    "* Alternate Hypothesis Ha = The practical experiment was successful in increasing the traffic across the bridge\n",
    "* Compute the p-value for Ha assuming H0 was true. \n",
    "* If p-value < alpha, Reject H0 and declare that Ha is true. "
   ]
  }
 ],
 "metadata": {
  "kernelspec": {
   "display_name": "Python 3",
   "language": "python",
   "name": "python3"
  },
  "language_info": {
   "codemirror_mode": {
    "name": "ipython",
    "version": 3
   },
   "file_extension": ".py",
   "mimetype": "text/x-python",
   "name": "python",
   "nbconvert_exporter": "python",
   "pygments_lexer": "ipython3",
   "version": "3.6.8"
  },
  "toc": {
   "base_numbering": 1,
   "nav_menu": {},
   "number_sections": true,
   "sideBar": true,
   "skip_h1_title": false,
   "title_cell": "Table of Contents",
   "title_sidebar": "Contents",
   "toc_cell": false,
   "toc_position": {},
   "toc_section_display": true,
   "toc_window_display": false
  }
 },
 "nbformat": 4,
 "nbformat_minor": 2
}
